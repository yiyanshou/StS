{
 "cells": [
  {
   "cell_type": "code",
   "execution_count": 1,
   "id": "765b24c8",
   "metadata": {},
   "outputs": [],
   "source": [
    "import scipy.stats as sps\n",
    "import numpy as np\n",
    "from matplotlib import pyplot as plt\n",
    "import seaborn as sns"
   ]
  },
  {
   "cell_type": "markdown",
   "id": "4b7e864a",
   "metadata": {},
   "source": [
    "Set search and chain windows, and minimum chain length."
   ]
  },
  {
   "cell_type": "code",
   "execution_count": 2,
   "id": "0bcae6a2",
   "metadata": {},
   "outputs": [],
   "source": [
    "chain_win_start = 7 * 24 * 3600\n",
    "search_win_end = 10 * 24 * 3600\n",
    "min_len = 5"
   ]
  },
  {
   "cell_type": "markdown",
   "id": "20900f49",
   "metadata": {},
   "source": [
    "Read simulated data from file."
   ]
  },
  {
   "cell_type": "code",
   "execution_count": 3,
   "id": "4bf660b7",
   "metadata": {},
   "outputs": [],
   "source": [
    "runs = []\n",
    "nchains = 0\n",
    "with open('simulated_data_2w_big.txt', 'r') as f:\n",
    "    for rs in f:\n",
    "        rl = rs.split(',')\n",
    "        r = (int(rl[0]), int(rl[1]), int(rl[2]), int(rl[3]), int(rl[4]), int(rl[5]))\n",
    "        nchains = max(nchains, r[5] + 1)\n",
    "        if r[3] <= search_win_end and r[4] == 0:\n",
    "            runs.append(r)"
   ]
  },
  {
   "cell_type": "markdown",
   "id": "364ca4dc",
   "metadata": {},
   "source": [
    "Number of simulated chains:"
   ]
  },
  {
   "cell_type": "code",
   "execution_count": 4,
   "id": "c428a6cd",
   "metadata": {},
   "outputs": [
    {
     "data": {
      "text/plain": [
       "500000"
      ]
     },
     "execution_count": 4,
     "metadata": {},
     "output_type": "execute_result"
    }
   ],
   "source": [
    "nchains"
   ]
  },
  {
   "cell_type": "markdown",
   "id": "d11e4706",
   "metadata": {},
   "source": [
    "Number of simulated runs that appear in the data set:"
   ]
  },
  {
   "cell_type": "code",
   "execution_count": 5,
   "id": "05ed699f",
   "metadata": {},
   "outputs": [
    {
     "data": {
      "text/plain": [
       "8026763"
      ]
     },
     "execution_count": 5,
     "metadata": {},
     "output_type": "execute_result"
    }
   ],
   "source": [
    "len(runs)"
   ]
  },
  {
   "cell_type": "markdown",
   "id": "ffaa669b",
   "metadata": {},
   "source": [
    "Run the temporal chaining algorithm."
   ]
  },
  {
   "cell_type": "code",
   "execution_count": 6,
   "id": "d9832fc6",
   "metadata": {},
   "outputs": [],
   "source": [
    "def links(r1, r2):\n",
    "    return r1[1] + r1[2] == r2[1] and r2[3] - r2[2] >= r1[3]"
   ]
  },
  {
   "cell_type": "code",
   "execution_count": 7,
   "id": "1e980c62",
   "metadata": {},
   "outputs": [],
   "source": [
    "# build dictionaries of runs for fast lookup\n",
    "chain_data = {}\n",
    "search_data = {}\n",
    "for r in runs:\n",
    "    if r[3] >= chain_win_start:\n",
    "        if r[1] in chain_data:\n",
    "            chain_data[r[1]].append(r)\n",
    "        else:\n",
    "            chain_data[r[1]] = [r]\n",
    "\n",
    "    else:\n",
    "        target_exp = r[1] + r[2]\n",
    "        if target_exp in search_data:\n",
    "            search_data[target_exp].append(r)\n",
    "        else:\n",
    "            search_data[target_exp] = [r]"
   ]
  },
  {
   "cell_type": "code",
   "execution_count": 8,
   "id": "b56f9483",
   "metadata": {},
   "outputs": [],
   "source": [
    "# sieves out a chain starting with run i. Deletes all forward-colliding runs\n",
    "# and their chains        \n",
    "def chain(exp, k = 0):\n",
    "    source_runs = chain_data.get(exp, [])\n",
    "    if len(source_runs) >= k + 1:\n",
    "        ch = [source_runs.pop(k)]\n",
    "    else:\n",
    "        return []\n",
    "   \n",
    "    target_exp = ch[0][1] + ch[0][2]\n",
    "    target_runs = []\n",
    "    for k, r in enumerate(chain_data.get(target_exp, [])):\n",
    "        if links(ch[0], r):\n",
    "            target_runs.append(k)\n",
    "    \n",
    "    if len(target_runs) == 1:\n",
    "        return ch + chain(target_exp, target_runs[0])\n",
    "    elif len(target_runs) > 1:\n",
    "        for i, k in enumerate(target_runs):\n",
    "            chain(target_exp, k - i)\n",
    "        return ch\n",
    "    else:\n",
    "        return ch"
   ]
  },
  {
   "cell_type": "code",
   "execution_count": null,
   "id": "9231a6ba",
   "metadata": {},
   "outputs": [],
   "source": [
    "# create chains truncating after forward-collisions. Discard short chains.\n",
    "cand_chains = []\n",
    "exp_keys = list(chain_data.keys())\n",
    "exp_keys.sort()\n",
    "\n",
    "n = len(exp_keys)\n",
    "while n > 0:\n",
    "    ch = chain(exp_keys[0])\n",
    "    if len(ch) > 0:\n",
    "        if len(ch) >= min_len:\n",
    "            cand_chains.append(ch)\n",
    "        r = ch[-1]\n",
    "        target_exp = r[1] + r[2]\n",
    "        if target_exp in search_data:\n",
    "            search_data[target_exp].append(r)\n",
    "        else:\n",
    "            search_data[target_exp] = [r]\n",
    "    else:\n",
    "        exp_keys.pop(0)\n",
    "        n = len(exp_keys)\n",
    "        continue"
   ]
  },
  {
   "cell_type": "markdown",
   "id": "8aef1ee4",
   "metadata": {},
   "source": [
    "Diagnose chain integrity before back-collision pruning:"
   ]
  },
  {
   "cell_type": "code",
   "execution_count": null,
   "id": "81def00a",
   "metadata": {},
   "outputs": [],
   "source": [
    "players_per_chain = np.zeros(len(cand_chains), dtype = int)\n",
    "chains_per_player = np.zeros(nchains, dtype = int)\n",
    "chain_lens = np.zeros(len(cand_chains), dtype = int)\n",
    "nruns = 0\n",
    "\n",
    "for i, ch in enumerate(cand_chains):\n",
    "    nruns += len(ch)\n",
    "    players = set()\n",
    "    for r in ch:\n",
    "        players.add(r[5])\n",
    "    players_per_chain[i] = len(players)\n",
    "    \n",
    "    for p in players:\n",
    "        chains_per_player[p] += 1\n",
    "        \n",
    "    chain_lens[i] = len(ch)"
   ]
  },
  {
   "cell_type": "code",
   "execution_count": null,
   "id": "fd50dcbd",
   "metadata": {},
   "outputs": [],
   "source": [
    "plt.title('Players Per Chain')\n",
    "sns.countplot(x = players_per_chain, color = 'b')"
   ]
  },
  {
   "cell_type": "code",
   "execution_count": null,
   "id": "4ce43305",
   "metadata": {
    "scrolled": true
   },
   "outputs": [],
   "source": [
    "plt.figure(figsize = (10, 4))\n",
    "plt.title('Chains Per Player')\n",
    "sns.countplot(x = chains_per_player, color = 'b')"
   ]
  },
  {
   "cell_type": "code",
   "execution_count": null,
   "id": "4954ac38",
   "metadata": {},
   "outputs": [],
   "source": [
    "plt.figure(figsize = (10, 4))\n",
    "plt.title('Chain Lengths')\n",
    "sns.countplot(x = chain_lens, color = 'b')"
   ]
  },
  {
   "cell_type": "code",
   "execution_count": null,
   "id": "5d3b36bb",
   "metadata": {},
   "outputs": [],
   "source": [
    "(players_per_chain > 1).sum() / len(cand_chains)"
   ]
  },
  {
   "cell_type": "code",
   "execution_count": null,
   "id": "2587e893",
   "metadata": {},
   "outputs": [],
   "source": [
    "sps.spearmanr(chain_lens, players_per_chain)"
   ]
  },
  {
   "cell_type": "markdown",
   "id": "e86e2246",
   "metadata": {},
   "source": [
    "Number of chains that need to be checked for back-collisions:"
   ]
  },
  {
   "cell_type": "code",
   "execution_count": null,
   "id": "e5b9924c",
   "metadata": {},
   "outputs": [],
   "source": [
    "n = len(cand_chains)\n",
    "n"
   ]
  },
  {
   "cell_type": "markdown",
   "id": "83f66c57",
   "metadata": {},
   "source": [
    "Total number of runs:"
   ]
  },
  {
   "cell_type": "code",
   "execution_count": null,
   "id": "4fd1a5f6",
   "metadata": {},
   "outputs": [],
   "source": [
    "nruns"
   ]
  },
  {
   "cell_type": "markdown",
   "id": "3b7fb48a",
   "metadata": {},
   "source": [
    "Perform back-collision pruning."
   ]
  },
  {
   "cell_type": "code",
   "execution_count": null,
   "id": "19e90827",
   "metadata": {},
   "outputs": [],
   "source": [
    "# transfer isolated runs in the chaining dict to the search dict\n",
    "for r_arr in chain_data.values():\n",
    "    for r in r_arr:\n",
    "        target_exp = r[1] + r[2]\n",
    "        if target_exp in search_data:\n",
    "            search_data[target_exp].append(r)\n",
    "        else:\n",
    "            search_data[target_exp] = [r]"
   ]
  },
  {
   "cell_type": "code",
   "execution_count": null,
   "id": "60a1be38",
   "metadata": {},
   "outputs": [],
   "source": [
    "# prune chains after back-collisions\n",
    "for i in range(n):\n",
    "    ch = cand_chains[i]\n",
    "    for j in range(1, len(ch)):\n",
    "        trunc = False\n",
    "        colls = search_data.get(ch[j][1])\n",
    "        if colls == None: \n",
    "            continue\n",
    "\n",
    "        for r in colls:\n",
    "            if links(r, ch[j]):\n",
    "                trunc = True\n",
    "                break\n",
    "\n",
    "        if trunc:\n",
    "            cand_chains[i] = ch[:j]\n",
    "            break"
   ]
  },
  {
   "cell_type": "code",
   "execution_count": null,
   "id": "3d5fb2c5",
   "metadata": {},
   "outputs": [],
   "source": [
    "# delete short chains\n",
    "i = 0\n",
    "while i < len(cand_chains):\n",
    "    if len(cand_chains[i]) < min_len:\n",
    "        cand_chains.pop(i)\n",
    "    else:\n",
    "        i += 1"
   ]
  },
  {
   "cell_type": "markdown",
   "id": "8baaf4de",
   "metadata": {},
   "source": [
    "Diagnose chain integrity after back-collision pruning."
   ]
  },
  {
   "cell_type": "code",
   "execution_count": null,
   "id": "dbb51518",
   "metadata": {},
   "outputs": [],
   "source": [
    "players_per_chain = np.zeros(len(cand_chains), dtype = int)\n",
    "chains_per_player = np.zeros(nchains, dtype = int)\n",
    "chain_lens = np.zeros(len(cand_chains), dtype = int)\n",
    "nruns = 0\n",
    "\n",
    "for i, ch in enumerate(cand_chains):\n",
    "    nruns += len(ch)\n",
    "    players = set()\n",
    "    for r in ch:\n",
    "        players.add(r[5])\n",
    "    players_per_chain[i] = len(players)\n",
    "    \n",
    "    for p in players:\n",
    "        chains_per_player[p] += 1\n",
    "        \n",
    "    chain_lens[i] = len(ch)"
   ]
  },
  {
   "cell_type": "code",
   "execution_count": null,
   "id": "b4b852df",
   "metadata": {},
   "outputs": [],
   "source": [
    "plt.title('Players Per Chain')\n",
    "sns.countplot(x = players_per_chain, color = 'b')"
   ]
  },
  {
   "cell_type": "code",
   "execution_count": null,
   "id": "09a1cf7f",
   "metadata": {},
   "outputs": [],
   "source": [
    "plt.figure(figsize = (10, 4))\n",
    "plt.title('Chains Per Player')\n",
    "sns.countplot(x = chains_per_player, color = 'b')"
   ]
  },
  {
   "cell_type": "code",
   "execution_count": null,
   "id": "2af3a385",
   "metadata": {},
   "outputs": [],
   "source": [
    "plt.figure(figsize = (10, 4))\n",
    "plt.title('Chain Lengths')\n",
    "sns.countplot(x = chain_lens, color = 'b')"
   ]
  },
  {
   "cell_type": "code",
   "execution_count": null,
   "id": "06bf405e",
   "metadata": {},
   "outputs": [],
   "source": [
    "(players_per_chain > 1).sum() / len(cand_chains)"
   ]
  },
  {
   "cell_type": "code",
   "execution_count": null,
   "id": "58210e83",
   "metadata": {},
   "outputs": [],
   "source": [
    "sps.spearmanr(chain_lens, players_per_chain)"
   ]
  },
  {
   "cell_type": "markdown",
   "id": "529b398d",
   "metadata": {},
   "source": [
    "Total remaining runs:"
   ]
  },
  {
   "cell_type": "code",
   "execution_count": null,
   "id": "dd12ec46",
   "metadata": {},
   "outputs": [],
   "source": [
    "nruns"
   ]
  },
  {
   "cell_type": "code",
   "execution_count": null,
   "id": "dbeb24aa",
   "metadata": {},
   "outputs": [],
   "source": []
  }
 ],
 "metadata": {
  "kernelspec": {
   "display_name": "Python 3",
   "language": "python",
   "name": "python3"
  },
  "language_info": {
   "codemirror_mode": {
    "name": "ipython",
    "version": 3
   },
   "file_extension": ".py",
   "mimetype": "text/x-python",
   "name": "python",
   "nbconvert_exporter": "python",
   "pygments_lexer": "ipython3",
   "version": "3.8.8"
  }
 },
 "nbformat": 4,
 "nbformat_minor": 5
}
