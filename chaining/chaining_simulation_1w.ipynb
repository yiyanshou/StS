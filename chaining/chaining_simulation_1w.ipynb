{
 "cells": [
  {
   "cell_type": "code",
   "execution_count": 1,
   "id": "765b24c8",
   "metadata": {},
   "outputs": [],
   "source": [
    "import scipy.stats as sps\n",
    "import numpy as np\n",
    "from matplotlib import pyplot as plt\n",
    "import seaborn as sns"
   ]
  },
  {
   "cell_type": "markdown",
   "id": "4b7e864a",
   "metadata": {},
   "source": [
    "Set search and chain windows, number of simulated players (<= 500,000), and minimum chain length threshold."
   ]
  },
  {
   "cell_type": "code",
   "execution_count": 2,
   "id": "0bcae6a2",
   "metadata": {},
   "outputs": [],
   "source": [
    "chain_win_start = 7 * 24 * 3600\n",
    "search_win_end = 14 * 24 * 3600\n",
    "min_len = 5\n",
    "nplayers = 100000"
   ]
  },
  {
   "cell_type": "markdown",
   "id": "20900f49",
   "metadata": {},
   "source": [
    "Read simulated data from file."
   ]
  },
  {
   "cell_type": "code",
   "execution_count": 3,
   "id": "4bf660b7",
   "metadata": {},
   "outputs": [],
   "source": [
    "nruns = 0\n",
    "chain_data = {}\n",
    "search_data = {}\n",
    "with open('simulated_data_2w_big.txt', 'r') as f:\n",
    "    for rs in f:\n",
    "        rl = rs.split(',')\n",
    "        r = (int(rl[0]), int(rl[1]), int(rl[2]), int(rl[3]), int(rl[4]), int(rl[5]))\n",
    "        if r[3] <= search_win_end and r[4] == 0 and r[5] < nplayers:\n",
    "            nruns += 1\n",
    "            \n",
    "            # build dictionaries of runs for fast lookup in the temporal chaining algorithm\n",
    "            if r[3] >= chain_win_start:\n",
    "                if r[1] in chain_data:\n",
    "                    chain_data[r[1]].append(r)\n",
    "                else:\n",
    "                    chain_data[r[1]] = [r]\n",
    "\n",
    "            else:\n",
    "                target_exp = r[1] + r[2]\n",
    "                if target_exp in search_data:\n",
    "                    search_data[target_exp].append(r)\n",
    "                else:\n",
    "                    search_data[target_exp] = [r]"
   ]
  },
  {
   "cell_type": "markdown",
   "id": "364ca4dc",
   "metadata": {},
   "source": [
    "Number of simulated players:"
   ]
  },
  {
   "cell_type": "code",
   "execution_count": 4,
   "id": "c428a6cd",
   "metadata": {},
   "outputs": [
    {
     "data": {
      "text/plain": [
       "100000"
      ]
     },
     "execution_count": 4,
     "metadata": {},
     "output_type": "execute_result"
    }
   ],
   "source": [
    "nplayers"
   ]
  },
  {
   "cell_type": "markdown",
   "id": "d11e4706",
   "metadata": {},
   "source": [
    "Number of simulated runs that appear in the data set:"
   ]
  },
  {
   "cell_type": "code",
   "execution_count": 5,
   "id": "05ed699f",
   "metadata": {},
   "outputs": [
    {
     "data": {
      "text/plain": [
       "2556516"
      ]
     },
     "execution_count": 5,
     "metadata": {},
     "output_type": "execute_result"
    }
   ],
   "source": [
    "nruns"
   ]
  },
  {
   "cell_type": "markdown",
   "id": "ffaa669b",
   "metadata": {},
   "source": [
    "Run the temporal chaining algorithm."
   ]
  },
  {
   "cell_type": "code",
   "execution_count": 6,
   "id": "d9832fc6",
   "metadata": {},
   "outputs": [],
   "source": [
    "def links(r1, r2):\n",
    "    return r1[1] + r1[2] == r2[1] and r2[3] - r2[2] >= r1[3]"
   ]
  },
  {
   "cell_type": "code",
   "execution_count": 7,
   "id": "b56f9483",
   "metadata": {},
   "outputs": [],
   "source": [
    "# sieves out a chain starting with run i. Deletes all forward-colliding runs\n",
    "# and their chains        \n",
    "def chain(exp, k = 0):\n",
    "    source_runs = chain_data.get(exp, [])\n",
    "    if len(source_runs) >= k + 1:\n",
    "        ch = [source_runs.pop(k)]\n",
    "    else:\n",
    "        return []\n",
    "   \n",
    "    target_exp = ch[0][1] + ch[0][2]\n",
    "    target_runs = []\n",
    "    for k, r in enumerate(chain_data.get(target_exp, [])):\n",
    "        if links(ch[0], r):\n",
    "            target_runs.append(k)\n",
    "    \n",
    "    if len(target_runs) == 1:\n",
    "        return ch + chain(target_exp, target_runs[0])\n",
    "    elif len(target_runs) > 1:\n",
    "        for i, k in enumerate(target_runs):\n",
    "            chain(target_exp, k - i)\n",
    "        return ch\n",
    "    else:\n",
    "        return ch"
   ]
  },
  {
   "cell_type": "code",
   "execution_count": 8,
   "id": "9231a6ba",
   "metadata": {},
   "outputs": [],
   "source": [
    "# create chains truncating after forward-collisions\n",
    "cand_chains = []\n",
    "exp_keys = list(chain_data.keys())\n",
    "exp_keys.sort()\n",
    "\n",
    "n = len(exp_keys)\n",
    "while n > 0:\n",
    "    ch = chain(exp_keys[0])\n",
    "    if len(ch) > 0:\n",
    "        cand_chains.append(ch)\n",
    "        r = ch[-1]\n",
    "        target_exp = r[1] + r[2]\n",
    "        if target_exp in search_data:\n",
    "            search_data[target_exp].append(r)\n",
    "        else:\n",
    "            search_data[target_exp] = [r]\n",
    "    else:\n",
    "        exp_keys.pop(0)\n",
    "        n = len(exp_keys)\n",
    "        continue"
   ]
  },
  {
   "cell_type": "markdown",
   "id": "8aef1ee4",
   "metadata": {},
   "source": [
    "Diagnose chain integrity before back-collision pruning:"
   ]
  },
  {
   "cell_type": "code",
   "execution_count": 9,
   "id": "81def00a",
   "metadata": {},
   "outputs": [],
   "source": [
    "players_per_chain = np.zeros(len(cand_chains), dtype = int)\n",
    "chains_per_player = np.zeros(nplayers, dtype = int)\n",
    "chain_lens = np.zeros(len(cand_chains), dtype = int)\n",
    "nruns = 0\n",
    "\n",
    "for i, ch in enumerate(cand_chains):\n",
    "    nruns += len(ch)\n",
    "    players = set()\n",
    "    for r in ch:\n",
    "        players.add(r[5])\n",
    "    players_per_chain[i] = len(players)\n",
    "    \n",
    "    for p in players:\n",
    "        chains_per_player[p] += 1\n",
    "        \n",
    "    chain_lens[i] = len(ch)"
   ]
  },
  {
   "cell_type": "code",
   "execution_count": 10,
   "id": "fd50dcbd",
   "metadata": {},
   "outputs": [
    {
     "data": {
      "text/plain": [
       "Text(0, 0.5, '')"
      ]
     },
     "execution_count": 10,
     "metadata": {},
     "output_type": "execute_result"
    },
    {
     "data": {
      "image/png": "[encoded data removed]",
      "text/plain": [
       "<Figure size 216x216 with 1 Axes>"
      ]
     },
     "metadata": {
      "needs_background": "light"
     },
     "output_type": "display_data"
    }
   ],
   "source": [
    "plt.figure(figsize = (3, 3))\n",
    "plt.subplot\n",
    "plt.title('Players Per Chain')\n",
    "sns.countplot(x = players_per_chain, color = 'b')\n",
    "plt.ylabel('')"
   ]
  },
  {
   "cell_type": "code",
   "execution_count": 11,
   "id": "4ce43305",
   "metadata": {
    "scrolled": true
   },
   "outputs": [
    {
     "data": {
      "text/plain": [
       "Text(0, 0.5, '')"
      ]
     },
     "execution_count": 11,
     "metadata": {},
     "output_type": "execute_result"
    },
    {
     "data": {
      "image/png": "[encoded data removed]",
      "text/plain": [
       "<Figure size 504x216 with 1 Axes>"
      ]
     },
     "metadata": {
      "needs_background": "light"
     },
     "output_type": "display_data"
    }
   ],
   "source": [
    "plt.figure(figsize = (7, 3))\n",
    "plt.title('Chains Per Player')\n",
    "sns.countplot(x = chains_per_player, color = 'b')\n",
    "plt.yladata:image/png;base64,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bel('')"
   ]
  },
  {
   "cell_type": "code",
   "execution_count": 12,
   "id": "4954ac38",
   "metadata": {
    "scrolled": false
   },
   "outputs": [
    {
     "data": {
      "text/plain": [
       "Text(0, 0.5, '')"
      ]
     },
     "execution_count": 12,
     "metadata": {},
     "output_type": "execute_result"
    },
    {
     "data": {
      "image/png": "[encoded data removed]",
      "text/plain": [
       "<Figure size 720x216 with 1 Axes>"
      ]
     },
     "metadata": {
      "needs_background": "light"
     },
     "output_type": "display_data"
    }
   ],
   "source": [
    "plt.figure(figsize = (10, 3))\n",
    "plt.title('Chain Lengths')\n",
    "sns.countplot(x = chain_lens, color = 'b')\n",
    "plt.ylabel('')"
   ]
  },
  {
   "cell_type": "markdown",
   "id": "2238bad0",
   "metadata": {},
   "source": [
    "Total number of chains:"
   ]
  },
  {
   "cell_type": "code",
   "execution_count": 13,
   "id": "71c4c92d",
   "metadata": {},
   "outputs": [
    {
     "data": {
      "text/plain": [
       "297453"
      ]
     },
     "execution_count": 13,
     "metadata": {},
     "output_type": "execute_result"
    }
   ],
   "source": [
    "len(cand_chains)"
   ]
  },
  {
   "cell_type": "markdown",
   "id": "0546fbee",
   "metadata": {},
   "source": [
    "Total number of runs:"
   ]
  },
  {
   "cell_type": "code",
   "execution_count": 14,
   "id": "dd261367",
   "metadata": {},
   "outputs": [
    {
     "data": {
      "text/plain": [
       "873340"
      ]
     },
     "execution_count": 14,
     "metadata": {},
     "output_type": "execute_result"
    }
   ],
   "source": [
    "nruns"
   ]
  },
  {
   "cell_type": "markdown",
   "id": "94f47aef",
   "metadata": {},
   "source": [
    "Proportion of chains containing runs from more than one player:"
   ]
  },
  {
   "cell_type": "code",
   "execution_count": 15,
   "id": "5d3b36bb",
   "metadata": {},
   "outputs": [
    {
     "data": {
      "text/plain": [
       "0.03710165975801219"
      ]
     },
     "execution_count": 15,
     "metadata": {},
     "output_type": "execute_result"
    }
   ],
   "source": [
    "(players_per_chain > 1).sum() / len(cand_chains)"
   ]
  },
  {
   "cell_type": "markdown",
   "id": "4bf63676",
   "metadata": {},
   "source": [
    "Spearman rank correlation between chain length and players per chain:"
   ]
  },
  {
   "cell_type": "code",
   "execution_count": 16,
   "id": "2587e893",
   "metadata": {},
   "outputs": [
    {
     "data": {
      "text/plain": [
       "SpearmanrResult(correlation=0.19945974176987227, pvalue=0.0)"
      ]
     },
     "execution_count": 16,
     "metadata": {},
     "output_type": "execute_result"
    }
   ],
   "source": [
    "sps.spearmanr(chain_lens, players_per_chain)"
   ]
  },
  {
   "cell_type": "markdown",
   "id": "8e799534",
   "metadata": {},
   "source": [
    "Proportion of players represented in chain data:"
   ]
  },
  {
   "cell_type": "code",
   "execution_count": 17,
   "id": "8698c8a5",
   "metadata": {},
   "outputs": [
    {
     "data": {
      "text/plain": [
       "0.97974"
      ]
     },
     "execution_count": 17,
     "metadata": {},
     "output_type": "execute_result"
    }
   ],
   "source": [
    "(chains_per_player > 0).sum() / nplayers"
   ]
  },
  {
   "cell_type": "markdown",
   "id": "75ee6650",
   "metadata": {},
   "source": [
    "Proportion of represented players that are represented in multiple chains:"
   ]
  },
  {
   "cell_type": "code",
   "execution_count": 18,
   "id": "50350477",
   "metadata": {},
   "outputs": [
    {
     "data": {
      "text/plain": [
       "0.8639230816339029"
      ]
     },
     "execution_count": 18,
     "metadata": {},
     "output_type": "execute_result"
    }
   ],
   "source": [
    "(chains_per_player > 1).sum() / (chains_per_player > 0).sum()"
   ]
  },
  {
   "cell_type": "markdown",
   "id": "de869007",
   "metadata": {},
   "source": [
    "Repeat diagnostic for chains meeting the minumum length threshold."
   ]
  },
  {
   "cell_type": "code",
   "execution_count": 19,
   "id": "ee8f3bc5",
   "metadata": {},
   "outputs": [],
   "source": [
    "long_chains = [ch for ch in cand_chains if len(ch) >= min_len]"
   ]
  },
  {
   "cell_type": "code",
   "execution_count": 20,
   "id": "bfdffb6e",
   "metadata": {},
   "outputs": [],
   "source": [
    "players_per_chain = np.zeros(len(long_chains), dtype = int)\n",
    "chains_per_player = np.zeros(nplayers, dtype = int)\n",
    "chain_lens = np.zeros(len(long_chains), dtype = int)\n",
    "nruns = 0\n",
    "\n",
    "for i, ch in enumerate(long_chains):\n",
    "    nruns += len(ch)\n",
    "    players = set()\n",
    "    for r in ch:\n",
    "        players.add(r[5])\n",
    "    players_per_chain[i] = len(players)\n",
    "    \n",
    "    for p in players:\n",
    "        chains_per_player[p] += 1\n",
    "        \n",
    "    chain_lens[i] = len(ch)"
   ]
  },
  {
   "cell_type": "code",
   "execution_count": 21,
   "id": "e70a47c0",
   "metadata": {},
   "outputs": [
    {
     "data": {
      "text/plain": [
       "Text(0, 0.5, '')"
      ]
     },
     "execution_count": 21,
     "metadata": {},
     "output_type": "execute_result"
    },
    {
     "data": {
      "image/png": "[encoded data removed]",
      "text/plain": [
       "<Figure size 216x216 with 1 Axes>"
      ]
     },
     "metadata": {
      "needs_background": "light"
     },
     "output_type": "display_data"
    }
   ],
   "source": [
    "plt.figure(figsize = (3, 3))\n",
    "plt.title('Players Per Chain')\n",
    "sns.countplot(x = players_per_chain, color = 'b')\n",
    "plt.ylabel('')"
   ]
  },
  {
   "cell_type": "code",
   "execution_count": 22,
   "id": "4df0ada5",
   "metadata": {
    "scrolled": true
   },
   "outputs": [
    {
     "data": {
      "text/plain": [
       "Text(0, 0.5, '')"
      ]
     },
     "execution_count": 22,
     "metadata": {},
     "output_type": "execute_result"
    },
    {
     "data": {
      "image/png": "[encoded data removed]",
      "text/plain": [
       "<Figure size 504x216 with 1 Axes>"
      ]
     },
     "metadata": {
      "needs_background": "light"
     },
     "output_type": "display_data"
    }
   ],
   "source": [
    "plt.figure(figsize = (7, 3))\n",
    "plt.title('Chains Per Player')\n",
    "sns.countplot(x = chains_per_player, color = 'b')\n",
    "plt.ylabel('')"
   ]
  },
  {
   "cell_type": "code",
   "execution_count": 23,
   "id": "64c4f6bd",
   "metadata": {
    "scrolled": true
   },
   "outputs": [
    {
     "data": {
      "text/plain": [
       "Text(0, 0.5, '')"
      ]
     },
     "execution_count": 23,
     "metadata": {},
     "output_type": "execute_result"
    },
    {
     "data": {
      "image/png": "[encoded data removed]",
      "text/plain": [
       "<Figure size 720x216 with 1 Axes>"
      ]
     },
     "metadata": {
      "needs_background": "light"
     },
     "output_type": "display_data"
    }
   ],
   "source": [
    "plt.figure(figsize = (10, 3))\n",
    "plt.title('Chain Lengths')\n",
    "sns.countplot(x = chain_lens, color = 'b')\n",
    "plt.ylabel('')"
   ]
  },
  {
   "cell_type": "markdown",
   "id": "628f0078",
   "metadata": {},
   "source": [
    "Total number of chains:"
   ]
  },
  {
   "cell_type": "code",
   "execution_count": 24,
   "id": "2f16555e",
   "metadata": {},
   "outputs": [
    {
     "data": {
      "text/plain": [
       "55482"
      ]
     },
     "execution_count": 24,
     "metadata": {},
     "output_type": "execute_result"
    }
   ],
   "source": [
    "len(long_chains)"
   ]
  },
  {
   "cell_type": "markdown",
   "id": "24dae470",
   "metadata": {},
   "source": [
    "Total remaining runs:"
   ]
  },
  {
   "cell_type": "code",
   "execution_count": 25,
   "id": "61323f6f",
   "metadata": {},
   "outputs": [
    {
     "data": {
      "text/plain": [
       "404798"
      ]
     },
     "execution_count": 25,
     "metadata": {},
     "output_type": "execute_result"
    }
   ],
   "source": [
    "nruns"
   ]
  },
  {
   "cell_type": "markdown",
   "id": "795ccbf4",
   "metadata": {},
   "source": [
    "Proportion of chains containing runs from more than one player:"
   ]
  },
  {
   "cell_type": "code",
   "execution_count": 26,
   "id": "62c0e5f9",
   "metadata": {},
   "outputs": [
    {
     "data": {
      "text/plain": [
       "0.10342092931040697"
      ]
     },
     "execution_count": 26,
     "metadata": {},
     "output_type": "execute_result"
    }
   ],
   "source": [
    "(players_per_chain > 1).sum() / len(long_chains)"
   ]
  },
  {
   "cell_type": "markdown",
   "id": "50e88c58",
   "metadata": {},
   "source": [
    "Spearman rank correlation between chain length and players per chain:"
   ]
  },
  {
   "cell_type": "code",
   "execution_count": 27,
   "id": "8cd9bbbe",
   "metadata": {},
   "outputs": [
    {
     "data": {
      "text/plain": [
       "SpearmanrResult(correlation=0.06768503076568635, pvalue=2.392730891830726e-57)"
      ]
     },
     "execution_count": 27,
     "metadata": {},
     "output_type": "execute_result"
    }
   ],
   "source": [
    "sps.spearmanr(chain_lens, players_per_chain)"
   ]
  },
  {
   "cell_type": "markdown",
   "id": "1e43523c",
   "metadata": {},
   "source": [
    "Proportion of players represented in chain data:"
   ]
  },
  {
   "cell_type": "code",
   "execution_count": 28,
   "id": "27f5fe44",
   "metadata": {},
   "outputs": [
    {
     "data": {
      "text/plain": [
       "0.46496"
      ]
     },
     "execution_count": 28,
     "metadata": {},
     "output_type": "execute_result"
    }
   ],
   "source": [
    "(chains_per_player > 0).sum() / nplayers"
   ]
  },
  {
   "cell_type": "markdown",
   "id": "374dacd7",
   "metadata": {},
   "source": [
    "Proportion of represented players that are represented in multiple chains:"
   ]
  },
  {
   "cell_type": "code",
   "execution_count": 29,
   "id": "450f3302",
   "metadata": {},
   "outputs": [
    {
     "data": {
      "text/plain": [
       "0.27193737095664144"
      ]
     },
     "execution_count": 29,
     "metadata": {},
     "output_type": "execute_result"
    }
   ],
   "source": [
    "(chains_per_player > 1).sum() / (chains_per_player > 0).sum()"
   ]
  },
  {
   "cell_type": "markdown",
   "id": "3b7fb48a",
   "metadata": {},
   "source": [
    "Perform back-collision pruning."
   ]
  },
  {
   "cell_type": "code",
   "execution_count": 30,
   "id": "19e90827",
   "metadata": {},
   "outputs": [],
   "source": [
    "# transfer isolated runs in the chaining dict to the search dict\n",
    "for r_arr in chain_data.values():\n",
    "    for r in r_arr:\n",
    "        target_exp = r[1] + r[2]\n",
    "        if target_exp in search_data:\n",
    "            search_data[target_exp].append(r)\n",
    "        else:\n",
    "            search_data[target_exp] = [r]"
   ]
  },
  {
   "cell_type": "code",
   "execution_count": 31,
   "id": "60a1be38",
   "metadata": {},
   "outputs": [],
   "source": [
    "# prune chains after back-collisions\n",
    "for i in range(len(cand_chains)):\n",
    "    ch = cand_chains[i]\n",
    "    for j in range(1, len(ch)):\n",
    "        trunc = False\n",
    "        colls = search_data.get(ch[j][1])\n",
    "        if colls == None: \n",
    "            continue\n",
    "\n",
    "        for r in colls:\n",
    "            if links(r, ch[j]):\n",
    "                trunc = True\n",
    "                break\n",
    "\n",
    "        if trunc:\n",
    "            cand_chains[i] = ch[:j]\n",
    "            break"
   ]
  },
  {
   "cell_type": "markdown",
   "id": "8baaf4de",
   "metadata": {},
   "source": [
    "Diagnose chain integrity after back-collision pruning."
   ]
  },
  {
   "cell_type": "code",
   "execution_count": 32,
   "id": "dbb51518",
   "metadata": {},
   "outputs": [],
   "source": [
    "players_per_chain = np.zeros(len(cand_chains), dtype = int)\n",
    "chains_per_player = np.zeros(nplayers, dtype = int)\n",
    "chain_lens = np.zeros(len(cand_chains), dtype = int)\n",
    "nruns = 0\n",
    "\n",
    "for i, ch in enumerate(cand_chains):\n",
    "    nruns += len(ch)\n",
    "    players = set()\n",
    "    for r in ch:\n",
    "        players.add(r[5])\n",
    "    players_per_chain[i] = len(players)\n",
    "    \n",
    "    for p in players:\n",
    "        chains_per_player[p] += 1\n",
    "        \n",
    "    chain_lens[i] = len(ch)"
   ]
  },
  {
   "cell_type": "code",
   "execution_count": 33,
   "id": "b4b852df",
   "metadata": {},
   "outputs": [
    {
     "data": {
      "text/plain": [
       "Text(0, 0.5, '')"
      ]
     },
     "execution_count": 33,
     "metadata": {},
     "output_type": "execute_result"
    },
    {
     "data": {
      "image/png": "[encoded data removed]",
      "text/plain": [
       "<Figure size 216x216 with 1 Axes>"
      ]
     },
     "metadata": {
      "needs_background": "light"
     },
     "output_type": "display_data"
    }
   ],
   "source": [
    "plt.figure(figsize = (3, 3))\n",
    "plt.title('Players Per Chain')\n",
    "sns.countplot(x = players_per_chain, color = 'b')\n",
    "plt.ylabel('')"
   ]
  },
  {
   "cell_type": "code",
   "execution_count": 34,
   "id": "09a1cf7f",
   "metadata": {},
   "outputs": [
    {
     "data": {
      "text/plain": [
       "Text(0, 0.5, '')"
      ]
     },
     "execution_count": 34,
     "metadata": {},
     "output_type": "execute_result"
    },
    {
     "data": {
      "image/png": "[encoded data removed]",
      "text/plain": [
       "<Figure size 504x216 with 1 Axes>"
      ]
     },
     "metadata": {
      "needs_background": "light"
     },
     "output_type": "display_data"
    }
   ],
   "source": [
    "plt.figure(figsize = (7, 3))\n",
    "plt.title('Chains Per Player')\n",
    "sns.countplot(x = chains_per_player, color = 'b')\n",
    "plt.ylabel('')"
   ]
  },
  {
   "cell_type": "code",
   "execution_count": 35,
   "id": "2af3a385",
   "metadata": {
    "scrolled": true
   },
   "outputs": [
    {
     "data": {
      "text/plain": [
       "Text(0, 0.5, '')"
      ]
     },
     "execution_count": 35,
     "metadata": {},
     "output_type": "execute_result"
    },
    {
     "data": {
      "image/png": "[encoded data removed]",
      "text/plain": [
       "<Figure size 720x216 with 1 Axes>"
      ]
     },
     "metadata": {
      "needs_background": "light"
     },
     "output_type": "display_data"
    }
   ],
   "source": [
    "plt.figure(figsize = (10, 3))\n",
    "plt.title('Chain Lengths')\n",
    "sns.countplot(x = chain_lens, color = 'b')\n",
    "plt.ylabel('')"
   ]
  },
  {
   "cell_type": "markdown",
   "id": "9ce64f5e",
   "metadata": {},
   "source": [
    "Total number of chains:"
   ]
  },
  {
   "cell_type": "code",
   "execution_count": 36,
   "id": "729edad1",
   "metadata": {},
   "outputs": [
    {
     "data": {
      "text/plain": [
       "297453"
      ]
     },
     "execution_count": 36,
     "metadata": {},
     "output_type": "execute_result"
    }
   ],
   "source": [
    "len(cand_chains)"
   ]
  },
  {
   "cell_type": "markdown",
   "id": "3ad2713d",
   "metadata": {},
   "source": [
    "Total remaining runs:"
   ]
  },
  {
   "cell_type": "code",
   "execution_count": 37,
   "id": "66e8c72d",
   "metadata": {},
   "outputs": [
    {
     "data": {
      "text/plain": [
       "660257"
      ]
     },
     "execution_count": 37,
     "metadata": {},
     "output_type": "execute_result"
    }
   ],
   "source": [
    "nruns"
   ]
  },
  {
   "cell_type": "markdown",
   "id": "af475484",
   "metadata": {},
   "source": [
    "Proportion of chains containing runs from more than one player:"
   ]
  },
  {
   "cell_type": "code",
   "execution_count": 38,
   "id": "06bf405e",
   "metadata": {},
   "outputs": [
    {
     "data": {
      "text/plain": [
       "0.010011665708532104"
      ]
     },
     "execution_count": 38,
     "metadata": {},
     "output_type": "execute_result"
    }
   ],
   "source": [
    "(players_per_chain > 1).sum() / len(cand_chains)"
   ]
  },
  {
   "cell_type": "markdown",
   "id": "103e2f3e",
   "metadata": {},
   "source": [
    "Spearman rank correlation between chain length and players per chain:"
   ]
  },
  {
   "cell_type": "code",
   "execution_count": 39,
   "id": "58210e83",
   "metadata": {},
   "outputs": [
    {
     "data": {
      "text/plain": [
       "SpearmanrResult(correlation=0.11088635277909469, pvalue=0.0)"
      ]
     },
     "execution_count": 39,
     "metadata": {},
     "output_type": "execute_result"
    }
   ],
   "source": [
    "sps.spearmanr(chain_lens, players_per_chain)"
   ]
  },
  {
   "cell_type": "markdown",
   "id": "368cb8b6",
   "metadata": {},
   "source": [
    "Proportion of players represented in chain data:"
   ]
  },
  {
   "cell_type": "code",
   "execution_count": 40,
   "id": "923c69bb",
   "metadata": {},
   "outputs": [
    {
     "data": {
      "text/plain": [
       "0.97757"
      ]
     },
     "execution_count": 40,
     "metadata": {},
     "output_type": "execute_result"
    }
   ],
   "source": [
    "(chains_per_player > 0).sum() / nplayers"
   ]
  },
  {
   "cell_type": "markdown",
   "id": "d7adb569",
   "metadata": {},
   "source": [
    "Proportion of represented players that are represented in multiple chains:"
   ]
  },
  {
   "cell_type": "code",
   "execution_count": 41,
   "id": "2ec48c55",
   "metadata": {},
   "outputs": [
    {
     "data": {
      "text/plain": [
       "0.85502828441953"
      ]
     },
     "execution_count": 41,
     "metadata": {},
     "output_type": "execute_result"
    }
   ],
   "source": [
    "(chains_per_player > 1).sum() / (chains_per_player > 0).sum()"
   ]
  },
  {
   "cell_type": "markdown",
   "id": "ba10922d",
   "metadata": {},
   "source": [
    "Repeat diagnostic for chains meeting the minumum length threshold."
   ]
  },
  {
   "cell_type": "code",
   "execution_count": 42,
   "id": "f9e98dff",
   "metadata": {},
   "outputs": [],
   "source": [
    "long_chains = [ch for ch in cand_chains if len(ch) >= min_len]"
   ]
  },
  {
   "cell_type": "code",
   "execution_count": 43,
   "id": "b773d510",
   "metadata": {},
   "outputs": [],
   "source": [
    "players_per_chain = np.zeros(len(long_chains), dtype = int)\n",
    "chains_per_player = np.zeros(nplayers, dtype = int)\n",
    "chain_lens = np.zeros(len(long_chains), dtype = int)\n",
    "nruns = 0\n",
    "\n",
    "for i, ch in enumerate(long_chains):\n",
    "    nruns += len(ch)\n",
    "    players = set()\n",
    "    for r in ch:\n",
    "        players.add(r[5])\n",
    "    players_per_chain[i] = len(players)\n",
    "    \n",
    "    for p in players:\n",
    "        chains_per_player[p] += 1\n",
    "        \n",
    "    chain_lens[i] = len(ch)"
   ]
  },
  {
   "cell_type": "code",
   "execution_count": 44,
   "id": "ab055309",
   "metadata": {},
   "outputs": [
    {
     "data": {
      "text/plain": [
       "Text(0, 0.5, '')"
      ]
     },
     "execution_count": 44,
     "metadata": {},
     "output_type": "execute_result"
    },
    {
     "data": {
      "image/png": "[encoded data removed]",
      "text/plain": [
       "<Figure size 216x216 with 1 Axes>"
      ]
     },
     "metadata": {
      "needs_background": "light"
     },
     "output_type": "display_data"
    }
   ],
   "source": [
    "plt.figure(figsize = (3, 3))\n",
    "plt.title('Players Per Chain')\n",
    "sns.countplot(x = players_per_chain, color = 'b')\n",
    "plt.ylabel('')"
   ]
  },
  {
   "cell_type": "code",
   "execution_count": 45,
   "id": "67fd9581",
   "metadata": {
    "scrolled": false
   },
   "outputs": [
    {
     "data": {
      "text/plain": [
       "Text(0, 0.5, '')"
      ]
     },
     "execution_count": 45,
     "metadata": {},
     "output_type": "execute_result"
    },
    {
     "data": {
      "image/png": "[encoded data removed]",
      "text/plain": [
       "<Figure size 504x216 with 1 Axes>"
      ]
     },
     "metadata": {
      "needs_background": "light"
     },
     "output_type": "display_data"
    }
   ],
   "source": [
    "plt.figure(figsize = (7, 3))\n",
    "plt.title('Chains Per Player')\n",
    "sns.countplot(x = chains_per_player, color = 'b')\n",
    "plt.ylabel('')"
   ]
  },
  {
   "cell_type": "code",
   "execution_count": 46,
   "id": "fd14a2e2",
   "metadata": {
    "scrolled": true
   },
   "outputs": [
    {
     "data": {
      "text/plain": [
       "Text(0, 0.5, '')"
      ]
     },
     "execution_count": 46,
     "metadata": {},
     "output_type": "execute_result"
    },
    {
     "data": {
      "image/png": "[encoded data removed]",
      "text/plain": [
       "<Figure size 720x216 with 1 Axes>"
      ]
     },
     "metadata": {
      "needs_background": "light"
     },
     "output_type": "display_data"
    }
   ],
   "source": [
    "plt.figure(figsize = (10, 3))\n",
    "plt.title('Chain Lengths')\n",
    "sns.countplot(x = chain_lens, color = 'b')\n",
    "plt.ylabel('')"
   ]
  },
  {
   "cell_type": "markdown",
   "id": "82f108d5",
   "metadata": {},
   "source": [
    "Total number of chains:"
   ]
  },
  {
   "cell_type": "code",
   "execution_count": 47,
   "id": "46ce0411",
   "metadata": {},
   "outputs": [
    {
     "data": {
      "text/plain": [
       "29783"
      ]
     },
     "execution_count": 47,
     "metadata": {},
     "output_type": "execute_result"
    }
   ],
   "source": [
    "len(long_chains)"
   ]
  },
  {
   "cell_type": "markdown",
   "id": "6612d2a9",
   "metadata": {},
   "source": [
    "Total remaining runs:"
   ]
  },
  {
   "cell_type": "code",
   "execution_count": 48,
   "id": "27fc62b9",
   "metadata": {},
   "outputs": [
    {
     "data": {
      "text/plain": [
       "207943"
      ]
     },
     "execution_count": 48,
     "metadata": {},
     "output_type": "execute_result"
    }
   ],
   "source": [
    "nruns"
   ]
  },
  {
   "cell_type": "markdown",
   "id": "a0a3ac22",
   "metadata": {},
   "source": [
    "Proportion of chains containing runs from more than one player:"
   ]
  },
  {
   "cell_type": "code",
   "execution_count": 49,
   "id": "d9a11f02",
   "metadata": {},
   "outputs": [
    {
     "data": {
      "text/plain": [
       "0.029244871235268442"
      ]
     },
     "execution_count": 49,
     "metadata": {},
     "output_type": "execute_result"
    }
   ],
   "source": [
    "(players_per_chain > 1).sum() / len(long_chains)"
   ]
  },
  {
   "cell_type": "markdown",
   "id": "255dc350",
   "metadata": {},
   "source": [
    "Spearman rank correlation between chain length and players per chain:"
   ]
  },
  {
   "cell_type": "code",
   "execution_count": 50,
   "id": "406cb8eb",
   "metadata": {},
   "outputs": [
    {
     "data": {
      "text/plain": [
       "SpearmanrResult(correlation=0.005974068358904623, pvalue=0.3025615374875444)"
      ]
     },
     "execution_count": 50,
     "metadata": {},
     "output_type": "execute_result"
    }
   ],
   "source": [
    "sps.spearmanr(chain_lens, players_per_chain)"
   ]
  },
  {
   "cell_type": "markdown",
   "id": "0194c959",
   "metadata": {},
   "source": [
    "Proportion of players represented in chain data:"
   ]
  },
  {
   "cell_type": "code",
   "execution_count": 51,
   "id": "7976af78",
   "metadata": {},
   "outputs": [
    {
     "data": {
      "text/plain": [
       "0.24209"
      ]
     },
     "execution_count": 51,
     "metadata": {},
     "output_type": "execute_result"
    }
   ],
   "source": [
    "(chains_per_player > 0).sum() / nplayers"
   ]
  },
  {
   "cell_type": "markdown",
   "id": "b78db01a",
   "metadata": {},
   "source": [
    "Proportion of represented players that are represented in multiple chains:"
   ]
  },
  {
   "cell_type": "code",
   "execution_count": 52,
   "id": "2da4629a",
   "metadata": {},
   "outputs": [
    {
     "data": {
      "text/plain": [
       "0.22656863150068157"
      ]
     },
     "execution_count": 52,
     "metadata": {},
     "output_type": "execute_result"
    }
   ],
   "source": [
    "(chains_per_player > 1).sum() / (chains_per_player > 0).sum()"
   ]
  },
  {
   "cell_type": "code",
   "execution_count": null,
   "id": "06c0f279",
   "metadata": {},
   "outputs": [],
   "source": []
  }
 ],
 "metadata": {
  "kernelspec": {
   "display_name": "Python 3",
   "language": "python",
   "name": "python3"
  },
  "language_info": {
   "codemirror_mode": {
    "name": "ipython",
    "version": 3
   },
   "file_extension": ".py",
   "mimetype": "text/x-python",
   "name": "python",
   "nbconvert_exporter": "python",
   "pygments_lexer": "ipython3",
   "version": "3.8.8"
  }
 },
 "nbformat": 4,
 "nbformat_minor": 5
}
