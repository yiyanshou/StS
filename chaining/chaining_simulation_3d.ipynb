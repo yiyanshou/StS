{
 "cells": [
  {
   "cell_type": "code",
   "execution_count": 1,
   "id": "765b24c8",
   "metadata": {},
   "outputs": [],
   "source": [
    "import scipy.stats as sps\n",
    "import numpy as np\n",
    "from matplotlib import pyplot as plt\n",
    "import seaborn as sns"
   ]
  },
  {
   "cell_type": "markdown",
   "id": "4b7e864a",
   "metadata": {},
   "source": [
    "Set search and chain windows, number of simulated players (<= 500,000), and minimum chain length threshold."
   ]
  },
  {
   "cell_type": "code",
   "execution_count": 2,
   "id": "0bcae6a2",
   "metadata": {},
   "outputs": [],
   "source": [
    "chain_win_start = 7 * 24 * 3600\n",
    "search_win_end = 10 * 24 * 3600\n",
    "min_len = 5\n",
    "nplayers = 100000"
   ]
  },
  {
   "cell_type": "markdown",
   "id": "20900f49",
   "metadata": {},
   "source": [
    "Read simulated data from file."
   ]
  },
  {
   "cell_type": "code",
   "execution_count": 3,
   "id": "4bf660b7",
   "metadata": {},
   "outputs": [],
   "source": [
    "nruns = 0\n",
    "chain_data = {}\n",
    "search_data = {}\n",
    "with open('simulated_data_2w_big.txt', 'r') as f:\n",
    "    for rs in f:\n",
    "        rl = rs.split(',')\n",
    "        r = (int(rl[0]), int(rl[1]), int(rl[2]), int(rl[3]), int(rl[4]), int(rl[5]))\n",
    "        if r[3] <= search_win_end and r[4] == 0 and r[5] < nplayers:\n",
    "            nruns += 1\n",
    "            \n",
    "            # build dictionaries of runs for fast lookup in the temporal chaining algorithm\n",
    "            if r[3] >= chain_win_start:\n",
    "                if r[1] in chain_data:\n",
    "                    chain_data[r[1]].append(r)\n",
    "                else:\n",
    "                    chain_data[r[1]] = [r]\n",
    "\n",
    "            else:\n",
    "                target_exp = r[1] + r[2]\n",
    "                if target_exp in search_data:\n",
    "                    search_data[target_exp].append(r)\n",
    "                else:\n",
    "                    search_data[target_exp] = [r]"
   ]
  },
  {
   "cell_type": "markdown",
   "id": "364ca4dc",
   "metadata": {},
   "source": [
    "Number of simulated players:"
   ]
  },
  {
   "cell_type": "code",
   "execution_count": 4,
   "id": "c428a6cd",
   "metadata": {},
   "outputs": [
    {
     "data": {
      "text/plain": [
       "100000"
      ]
     },
     "execution_count": 4,
     "metadata": {},
     "output_type": "execute_result"
    }
   ],
   "source": [
    "nplayers"
   ]
  },
  {
   "cell_type": "markdown",
   "id": "d11e4706",
   "metadata": {},
   "source": [
    "Number of simulated runs that appear in the data set:"
   ]
  },
  {
   "cell_type": "code",
   "execution_count": 5,
   "id": "05ed699f",
   "metadata": {},
   "outputs": [
    {
     "data": {
      "text/plain": [
       "1607054"
      ]
     },
     "execution_count": 5,
     "metadata": {},
     "output_type": "execute_result"
    }
   ],
   "source": [
    "nruns"
   ]
  },
  {
   "cell_type": "markdown",
   "id": "ffaa669b",
   "metadata": {},
   "source": [
    "Run the temporal chaining algorithm."
   ]
  },
  {
   "cell_type": "code",
   "execution_count": 6,
   "id": "d9832fc6",
   "metadata": {},
   "outputs": [],
   "source": [
    "def links(r1, r2):\n",
    "    return r1[1] + r1[2] == r2[1] and r2[3] - r2[2] >= r1[3]"
   ]
  },
  {
   "cell_type": "code",
   "execution_count": 7,
   "id": "b56f9483",
   "metadata": {},
   "outputs": [],
   "source": [
    "# sieves out a chain starting with run i. Deletes all forward-colliding runs\n",
    "# and their chains        \n",
    "def chain(exp, k = 0):\n",
    "    source_runs = chain_data.get(exp, [])\n",
    "    if len(source_runs) >= k + 1:\n",
    "        ch = [source_runs.pop(k)]\n",
    "    else:\n",
    "        return []\n",
    "   \n",
    "    target_exp = ch[0][1] + ch[0][2]\n",
    "    target_runs = []\n",
    "    for k, r in enumerate(chain_data.get(target_exp, [])):\n",
    "        if links(ch[0], r):\n",
    "            target_runs.append(k)\n",
    "    \n",
    "    if len(target_runs) == 1:\n",
    "        return ch + chain(target_exp, target_runs[0])\n",
    "    elif len(target_runs) > 1:\n",
    "        for i, k in enumerate(target_runs):\n",
    "            chain(target_exp, k - i)\n",
    "        return ch\n",
    "    else:\n",
    "        return ch"
   ]
  },
  {
   "cell_type": "code",
   "execution_count": 8,
   "id": "9231a6ba",
   "metadata": {},
   "outputs": [],
   "source": [
    "# create chains truncating after forward-collisions\n",
    "cand_chains = []\n",
    "exp_keys = list(chain_data.keys())\n",
    "exp_keys.sort()\n",
    "\n",
    "n = len(exp_keys)\n",
    "while n > 0:\n",
    "    ch = chain(exp_keys[0])\n",
    "    if len(ch) > 0:\n",
    "        cand_chains.append(ch)\n",
    "        r = ch[-1]\n",
    "        target_exp = r[1] + r[2]\n",
    "        if target_exp in search_data:\n",
    "            search_data[target_exp].append(r)\n",
    "        else:\n",
    "            search_data[target_exp] = [r]\n",
    "    else:\n",
    "        exp_keys.pop(0)\n",
    "        n = len(exp_keys)\n",
    "        continue"
   ]
  },
  {
   "cell_type": "markdown",
   "id": "8aef1ee4",
   "metadata": {},
   "source": [
    "Diagnose chain integrity before back-collision pruning:"
   ]
  },
  {
   "cell_type": "code",
   "execution_count": 9,
   "id": "81def00a",
   "metadata": {},
   "outputs": [],
   "source": [
    "players_per_chain = np.zeros(len(cand_chains), dtype = int)\n",
    "chains_per_player = np.zeros(nplayers, dtype = int)\n",
    "chain_lens = np.zeros(len(cand_chains), dtype = int)\n",
    "nruns = 0\n",
    "\n",
    "for i, ch in enumerate(cand_chains):\n",
    "    nruns += len(ch)\n",
    "    players = set()\n",
    "    for r in ch:\n",
    "        players.add(r[5])\n",
    "    players_per_chain[i] = len(players)\n",
    "    \n",
    "    for p in players:\n",
    "        chains_per_player[p] += 1\n",
    "        \n",
    "    chain_lens[i] = len(ch)"
   ]
  },
  {
   "cell_type": "code",
   "execution_count": 10,
   "id": "fd50dcbd",
   "metadata": {},
   "outputs": [
    {
     "data": {
      "text/plain": [
       "Text(0, 0.5, '')"
      ]
     },
     "execution_count": 10,
     "metadata": {},
     "output_type": "execute_result"
    },
    {
     "data": {
      "image/png": "[encoded data removed]",
      "text/plain": [
       "<Figure size 216x216 with 1 Axes>"
      ]
     },
     "metadata": {
      "needs_background": "light"
     },
     "output_type": "display_data"
    }
   ],
   "source": [
    "plt.figure(figsize = (3, 3))\n",
    "plt.subplot\n",
    "plt.title('Players Per Chain')\n",
    "sns.countplot(x = players_per_chain, color = 'b')\n",
    "plt.ylabel('')"
   ]
  },
  {
   "cell_type": "code",
   "execution_count": 11,
   "id": "4ce43305",
   "metadata": {
    "scrolled": true
   },
   "outputs": [
    {
     "data": {
      "text/plain": [
       "Text(0, 0.5, '')"
      ]
     },
     "execution_count": 11,
     "metadata": {},
     "output_type": "execute_result"
    },
    {
     "data": {
      "image/png": "[encoded data removed]",
      "text/plain": [
       "<Figure size 504x216 with 1 Axes>"
      ]
     },
     "metadata": {
      "needs_background": "light"
     },
     "output_type": "display_data"
    }
   ],
   "source": [
    "plt.figure(figsize = (7, 3))\n",
    "plt.title('Chains Per Player')\n",
    "sns.countplot(x = chains_per_player, color = 'b')\n",
    "plt.ylabel('')"
   ]
  },
  {
   "cell_type": "code",
   "execution_count": 12,
   "id": "4954ac38",
   "metadata": {
    "scrolled": false
   },
   "outputs": [
    {
     "data": {
      "text/plain": [
       "Text(0, 0.5, '')"
      ]
     },
     "execution_count": 12,
     "metadata": {},
     "output_type": "execute_result"
    },
    {
     "data": {
      "image/png": "[encoded data removed]",
      "text/plain": [
       "<Figure size 720x216 with 1 Axes>"
      ]
     },
     "metadata": {
      "needs_background": "light"
     },
     "output_type": "display_data"
    }
   ],
   "source": [
    "plt.figure(figsize = (10, 3))\n",
    "plt.title('Chain Lengths')\n",
    "sns.countplot(x = chain_lens, color = 'b')\n",
    "plt.ylabel('')"
   ]
  },
  {
   "cell_type": "markdown",
   "id": "2238bad0",
   "metadata": {},
   "source": [
    "Total number of chains:"
   ]
  },
  {
   "cell_type": "code",
   "execution_count": 13,
   "id": "71c4c92d",
   "metadata": {},
   "outputs": [
    {
     "data": {
      "text/plain": [
       "164556"
      ]
     },
     "execution_count": 13,
     "metadata": {},
     "output_type": "execute_result"
    }
   ],
   "source": [
    "len(cand_chains)"
   ]
  },
  {
   "cell_type": "markdown",
   "id": "0546fbee",
   "metadata": {},
   "source": [
    "Total number of runs:"
   ]
  },
  {
   "cell_type": "code",
   "execution_count": 14,
   "id": "dd261367",
   "metadata": {},
   "outputs": [
    {
     "data": {
      "text/plain": [
       "499073"
      ]
     },
     "execution_count": 14,
     "metadata": {},
     "output_type": "execute_result"
    }
   ],
   "source": [
    "nruns"
   ]
  },
  {
   "cell_type": "markdown",
   "id": "94f47aef",
   "metadata": {},
   "source": [
    "Proportion of chains containing runs from more than one player:"
   ]
  },
  {
   "cell_type": "code",
   "execution_count": 15,
   "id": "5d3b36bb",
   "metadata": {},
   "outputs": [
    {
     "data": {
      "text/plain": [
       "0.029631250151923964"
      ]
     },
     "execution_count": 15,
     "metadata": {},
     "output_type": "execute_result"
    }
   ],
   "source": [
    "(players_per_chain > 1).sum() / len(cand_chains)"
   ]
  },
  {
   "cell_type": "markdown",
   "id": "4bf63676",
   "metadata": {},
   "source": [
    "Spearman rank correlation between chain length and players per chain:"
   ]
  },
  {
   "cell_type": "code",
   "execution_count": 16,
   "id": "2587e893",
   "metadata": {},
   "outputs": [
    {
     "data": {
      "text/plain": [
       "SpearmanrResult(correlation=0.1729296085494681, pvalue=0.0)"
      ]
     },
     "execution_count": 16,
     "metadata": {},
     "output_type": "execute_result"
    }
   ],
   "source": [
    "sps.spearmanr(chain_lens, players_per_chain)"
   ]
  },
  {
   "cell_type": "markdown",
   "id": "8e799534",
   "metadata": {},
   "source": [
    "Proportion of players represented in chain data:"
   ]
  },
  {
   "cell_type": "code",
   "execution_count": 17,
   "id": "8698c8a5",
   "metadata": {},
   "outputs": [
    {
     "data": {
      "text/plain": [
       "0.90025"
      ]
     },
     "execution_count": 17,
     "metadata": {},
     "output_type": "execute_result"
    }
   ],
   "source": [
    "(chains_per_player > 0).sum() / nplayers"
   ]
  },
  {
   "cell_type": "markdown",
   "id": "75ee6650",
   "metadata": {},
   "source": [
    "Proportion of represented players that are represented in multiple chains:"
   ]
  },
  {
   "cell_type": "code",
   "execution_count": 18,
   "id": "50350477",
   "metadata": {},
   "outputs": [
    {
     "data": {
      "text/plain": [
       "0.5611774507081366"
      ]
     },
     "execution_count": 18,
     "metadata": {},
     "output_type": "execute_result"
    }
   ],
   "source": [
    "(chains_per_player > 1).sum() / (chains_per_player > 0).sum()"
   ]
  },
  {
   "cell_type": "markdown",
   "id": "de869007",
   "metadata": {},
   "source": [
    "Repeat diagnostic for chains meeting the minumum length threshold."
   ]
  },
  {
   "cell_type": "code",
   "execution_count": 19,
   "id": "ee8f3bc5",
   "metadata": {},
   "outputs": [],
   "source": [
    "long_chains = [ch for ch in cand_chains if len(ch) >= min_len]"
   ]
  },
  {
   "cell_type": "code",
   "execution_count": 20,
   "id": "bfdffb6e",
   "metadata": {},
   "outputs": [],
   "source": [
    "players_per_chain = np.zeros(len(long_chains), dtype = int)\n",
    "chains_per_player = np.zeros(nplayers, dtype = int)\n",
    "chain_lens = np.zeros(len(long_chains), dtype = int)\n",
    "nruns = 0\n",
    "\n",
    "for i, ch in enumerate(long_chains):\n",
    "    nruns += len(ch)\n",
    "    players = set()\n",
    "    for r in ch:\n",
    "        players.add(r[5])\n",
    "    players_per_chain[i] = len(players)\n",
    "    \n",
    "    for p in players:\n",
    "        chains_per_player[p] += 1\n",
    "        \n",
    "    chain_lens[i] = len(ch)"
   ]
  },
  {
   "cell_type": "code",
   "execution_count": 21,
   "id": "e70a47c0",
   "metadata": {},
   "outputs": [
    {
     "data": {
      "text/plain": [
       "Text(0, 0.5, '')"
      ]
     },
     "execution_count": 21,
     "metadata": {},
     "output_type": "execute_result"
    },
    {
     "data": {
      "image/png": "[encoded data removed]",
      "text/plain": [
       "<Figure size 216x216 with 1 Axes>"
      ]
     },
     "metadata": {
      "needs_background": "light"
     },
     "output_type": "display_data"
    }
   ],
   "source": [
    "plt.figure(figsize = (3, 3))\n",
    "plt.title('Players Per Chain')\n",
    "sns.countplot(x = players_per_chain, color = 'b')\n",
    "plt.ylabel('')"
   ]
  },
  {
   "cell_type": "code",
   "execution_count": 22,
   "id": "4df0ada5",
   "metadata": {
    "scrolled": true
   },
   "outputs": [
    {
     "data": {
      "text/plain": [
       "Text(0, 0.5, '')"
      ]
     },
     "execution_count": 22,
     "metadata": {},
     "output_type": "execute_result"
    },
    {
     "data": {
      "image/png": "[encoded data removed]",
      "text/plain": [
       "<Figure size 504x216 with 1 Axes>"
      ]
     },
     "metadata": {
      "needs_background": "light"
     },
     "output_type": "display_data"
    }
   ],
   "source": [
    "plt.figure(figsize = (7, 3))\n",
    "plt.title('Chains Per Player')\n",
    "sns.countplot(x = chains_per_player, color = 'b')\n",
    "plt.ylabel('')"
   ]
  },
  {
   "cell_type": "code",
   "execution_count": 23,
   "id": "64c4f6bd",
   "metadata": {
    "scrolled": true
   },
   "outputs": [
    {
     "data": {
      "text/plain": [
       "Text(0, 0.5, '')"
      ]
     },
     "execution_count": 23,
     "metadata": {},
     "output_type": "execute_result"
    },
    {
     "data": {
      "image/png": "[encoded data removed]",
      "text/plain": [
       "<Figure size 720x216 with 1 Axes>"
      ]
     },
     "metadata": {
      "needs_background": "light"
     },
     "output_type": "display_data"
    }
   ],
   "source": [
    "plt.figure(figsize = (10, 3))\n",
    "plt.title('Chain Lengths')\n",
    "sns.countplot(x = chain_lens, color = 'b')\n",
    "plt.ylabel('')"
   ]
  },
  {
   "cell_type": "markdown",
   "id": "628f0078",
   "metadata": {},
   "source": [
    "Total number of chains:"
   ]
  },
  {
   "cell_type": "code",
   "execution_count": 24,
   "id": "2f16555e",
   "metadata": {},
   "outputs": [
    {
     "data": {
      "text/plain": [
       "33606"
      ]
     },
     "execution_count": 24,
     "metadata": {},
     "output_type": "execute_result"
    }
   ],
   "source": [
    "len(long_chains)"
   ]
  },
  {
   "cell_type": "markdown",
   "id": "24dae470",
   "metadata": {},
   "source": [
    "Total remaining runs:"
   ]
  },
  {
   "cell_type": "code",
   "execution_count": 25,
   "id": "61323f6f",
   "metadata": {},
   "outputs": [
    {
     "data": {
      "text/plain": [
       "233982"
      ]
     },
     "execution_count": 25,
     "metadata": {},
     "output_type": "execute_result"
    }
   ],
   "source": [
    "nruns"
   ]
  },
  {
   "cell_type": "markdown",
   "id": "795ccbf4",
   "metadata": {},
   "source": [
    "Proportion of chains containing runs from more than one player:"
   ]
  },
  {
   "cell_type": "code",
   "execution_count": 26,
   "id": "62c0e5f9",
   "metadata": {},
   "outputs": [
    {
     "data": {
      "text/plain": [
       "0.07980717728976969"
      ]
     },
     "execution_count": 26,
     "metadata": {},
     "output_type": "execute_result"
    }
   ],
   "source": [
    "(players_per_chain > 1).sum() / len(long_chains)"
   ]
  },
  {
   "cell_type": "markdown",
   "id": "50e88c58",
   "metadata": {},
   "source": [
    "Spearman rank correlation between chain length and players per chain:"
   ]
  },
  {
   "cell_type": "code",
   "execution_count": 27,
   "id": "8cd9bbbe",
   "metadata": {},
   "outputs": [
    {
     "data": {
      "text/plain": [
       "SpearmanrResult(correlation=0.07316785504524281, pvalue=4.0020279115540064e-41)"
      ]
     },
     "execution_count": 27,
     "metadata": {},
     "output_type": "execute_result"
    }
   ],
   "source": [
    "sps.spearmanr(chain_lens, players_per_chain)"
   ]
  },
  {
   "cell_type": "markdown",
   "id": "1e43523c",
   "metadata": {},
   "source": [
    "Proportion of players represented in chain data:"
   ]
  },
  {
   "cell_type": "code",
   "execution_count": 28,
   "id": "27f5fe44",
   "metadata": {},
   "outputs": [
    {
     "data": {
      "text/plain": [
       "0.33046"
      ]
     },
     "execution_count": 28,
     "metadata": {},
     "output_type": "execute_result"
    }
   ],
   "source": [
    "(chains_per_player > 0).sum() / nplayers"
   ]
  },
  {
   "cell_type": "markdown",
   "id": "374dacd7",
   "metadata": {},
   "source": [
    "Proportion of represented players that are represented in multiple chains:"
   ]
  },
  {
   "cell_type": "code",
   "execution_count": 29,
   "id": "450f3302",
   "metadata": {},
   "outputs": [
    {
     "data": {
      "text/plain": [
       "0.09647158506324517"
      ]
     },
     "execution_count": 29,
     "metadata": {},
     "output_type": "execute_result"
    }
   ],
   "source": [
    "(chains_per_player > 1).sum() / (chains_per_player > 0).sum()"
   ]
  },
  {
   "cell_type": "markdown",
   "id": "3b7fb48a",
   "metadata": {},
   "source": [
    "Perform back-collision pruning."
   ]
  },
  {
   "cell_type": "code",
   "execution_count": 30,
   "id": "19e90827",
   "metadata": {},
   "outputs": [],
   "source": [
    "# transfer isolated runs in the chaining dict to the search dict\n",
    "for r_arr in chain_data.values():\n",
    "    for r in r_arr:\n",
    "        target_exp = r[1] + r[2]\n",
    "        if target_exp in search_data:\n",
    "            search_data[target_exp].append(r)\n",
    "        else:\n",
    "            search_data[target_exp] = [r]"
   ]
  },
  {
   "cell_type": "code",
   "execution_count": 31,
   "id": "60a1be38",
   "metadata": {},
   "outputs": [],
   "source": [
    "# prune chains after back-collisions\n",
    "for i in range(len(cand_chains)):\n",
    "    ch = cand_chains[i]\n",
    "    for j in range(1, len(ch)):\n",
    "        trunc = False\n",
    "        colls = search_data.get(ch[j][1])\n",
    "        if colls == None: \n",
    "            continue\n",
    "\n",
    "        for r in colls:\n",
    "            if links(r, ch[j]):\n",
    "                trunc = True\n",
    "                break\n",
    "\n",
    "        if trunc:\n",
    "            cand_chains[i] = ch[:j]\n",
    "            break"
   ]
  },
  {
   "cell_type": "markdown",
   "id": "8baaf4de",
   "metadata": {},
   "source": [
    "Diagnose chain integrity after back-collision pruning."
   ]
  },
  {
   "cell_type": "code",
   "execution_count": 32,
   "id": "dbb51518",
   "metadata": {},
   "outputs": [],
   "source": [
    "players_per_chain = np.zeros(len(cand_chains), dtype = int)\n",
    "chains_per_player = np.zeros(nplayers, dtype = int)\n",
    "chain_lens = np.zeros(len(cand_chains), dtype = int)\n",
    "nruns = 0\n",
    "\n",
    "for i, ch in enumerate(cand_chains):\n",
    "    nruns += len(ch)\n",
    "    players = set()\n",
    "    for r in ch:\n",
    "        players.add(r[5])\n",
    "    players_per_chain[i] = len(players)\n",
    "    \n",
    "    for p in players:\n",
    "        chains_per_player[p] += 1\n",
    "        \n",
    "    chain_lens[i] = len(ch)"
   ]
  },
  {
   "cell_type": "code",
   "execution_count": 33,
   "id": "b4b852df",
   "metadata": {},
   "outputs": [
    {
     "data": {
      "text/plain": [
       "Text(0, 0.5, '')"
      ]
     },
     "execution_count": 33,
     "metadata": {},
     "output_type": "execute_result"
    },
    {
     "data": {
      "image/png": "[encoded data removed]",
      "text/plain": [
       "<Figure size 216x216 with 1 Axes>"
      ]
     },
     "metadata": {
      "needs_background": "light"
     },
     "output_type": "display_data"
    }
   ],
   "source": [
    "plt.figure(figsize = (3, 3))\n",
    "plt.title('Players Per Chain')\n",
    "sns.countplot(x = players_per_chain, color = 'b')\n",
    "plt.ylabel('')"
   ]
  },
  {
   "cell_type": "code",
   "execution_count": 34,
   "id": "09a1cf7f",
   "metadata": {},
   "outputs": [
    {
     "data": {
      "text/plain": [
       "Text(0, 0.5, '')"
      ]
     },
     "execution_count": 34,
     "metadata": {},
     "output_type": "execute_result"
    },
    {
     "data": {
      "image/png": "[encoded data removed]",
      "text/plain": [
       "<Figure size 504x216 with 1 Axes>"
      ]
     },
     "metadata": {
      "needs_background": "light"
     },
     "output_type": "display_data"
    }
   ],
   "source": [
    "plt.figure(figsize = (7, 3))\n",
    "plt.title('Chains Per Player')\n",
    "sns.countplot(x = chains_per_player, color = 'b')\n",
    "plt.ylabel('')"
   ]
  },
  {
   "cell_type": "code",
   "execution_count": 35,
   "id": "2af3a385",
   "metadata": {
    "scrolled": true
   },
   "outputs": [
    {
     "data": {
      "text/plain": [
       "Text(0, 0.5, '')"
      ]
     },
     "execution_count": 35,
     "metadata": {},
     "output_type": "execute_result"
    },
    {
     "data": {
      "image/png": "[encoded data removed]",
      "text/plain": [
       "<Figure size 720x216 with 1 Axes>"
      ]
     },
     "metadata": {
      "needs_background": "light"
     },
     "output_type": "display_data"
    }
   ],
   "source": [
    "plt.figure(figsize = (10, 3))\n",
    "plt.title('Chain Lengths')\n",
    "sns.countplot(x = chain_lens, color = 'b')\n",
    "plt.ylabel('')"
   ]
  },
  {
   "cell_type": "markdown",
   "id": "9ce64f5e",
   "metadata": {},
   "source": [
    "Total number of chains:"
   ]
  },
  {
   "cell_type": "code",
   "execution_count": 36,
   "id": "729edad1",
   "metadata": {},
   "outputs": [
    {
     "data": {
      "text/plain": [
       "164556"
      ]
     },
     "execution_count": 36,
     "metadata": {},
     "output_type": "execute_result"
    }
   ],
   "source": [
    "len(cand_chains)"
   ]
  },
  {
   "cell_type": "markdown",
   "id": "3ad2713d",
   "metadata": {},
   "source": [
    "Total remaining runs:"
   ]
  },
  {
   "cell_type": "code",
   "execution_count": 37,
   "id": "66e8c72d",
   "metadata": {},
   "outputs": [
    {
     "data": {
      "text/plain": [
       "358414"
      ]
     },
     "execution_count": 37,
     "metadata": {},
     "output_type": "execute_result"
    }
   ],
   "source": [
    "nruns"
   ]
  },
  {
   "cell_type": "markdown",
   "id": "af475484",
   "metadata": {},
   "source": [
    "Proportion of chains containing runs from more than one player:"
   ]
  },
  {
   "cell_type": "code",
   "execution_count": 38,
   "id": "06bf405e",
   "metadata": {},
   "outputs": [
    {
     "data": {
      "text/plain": [
       "0.005852111135418945"
      ]
     },
     "execution_count": 38,
     "metadata": {},
     "output_type": "execute_result"
    }
   ],
   "source": [
    "(players_per_chain > 1).sum() / len(cand_chains)"
   ]
  },
  {
   "cell_type": "markdown",
   "id": "103e2f3e",
   "metadata": {},
   "source": [
    "Spearman rank correlation between chain length and players per chain:"
   ]
  },
  {
   "cell_type": "code",
   "execution_count": 39,
   "id": "58210e83",
   "metadata": {},
   "outputs": [
    {
     "data": {
      "text/plain": [
       "SpearmanrResult(correlation=0.08295111102264525, pvalue=4.506643050536178e-249)"
      ]
     },
     "execution_count": 39,
     "metadata": {},
     "output_type": "execute_result"
    }
   ],
   "source": [
    "sps.spearmanr(chain_lens, players_per_chain)"
   ]
  },
  {
   "cell_type": "markdown",
   "id": "368cb8b6",
   "metadata": {},
   "source": [
    "Proportion of players represented in chain data:"
   ]
  },
  {
   "cell_type": "code",
   "execution_count": 40,
   "id": "923c69bb",
   "metadata": {},
   "outputs": [
    {
     "data": {
      "text/plain": [
       "0.89621"
      ]
     },
     "execution_count": 40,
     "metadata": {},
     "output_type": "execute_result"
    }
   ],
   "source": [
    "(chains_per_player > 0).sum() / nplayers"
   ]
  },
  {
   "cell_type": "markdown",
   "id": "d7adb569",
   "metadata": {},
   "source": [
    "Proportion of represented players that are represented in multiple chains:"
   ]
  },
  {
   "cell_type": "code",
   "execution_count": 41,
   "id": "2ec48c55",
   "metadata": {},
   "outputs": [
    {
     "data": {
      "text/plain": [
       "0.5487553140446993"
      ]
     },
     "execution_count": 41,
     "metadata": {},
     "output_type": "execute_result"
    }
   ],
   "source": [
    "(chains_per_player > 1).sum() / (chains_per_player > 0).sum()"
   ]
  },
  {
   "cell_type": "markdown",
   "id": "ba10922d",
   "metadata": {},
   "source": [
    "Repeat diagnostic for chains meeting the minumum length threshold."
   ]
  },
  {
   "cell_type": "code",
   "execution_count": 42,
   "id": "f9e98dff",
   "metadata": {},
   "outputs": [],
   "source": [
    "long_chains = [ch for ch in cand_chains if len(ch) >= min_len]"
   ]
  },
  {
   "cell_type": "code",
   "execution_count": 43,
   "id": "b773d510",
   "metadata": {},
   "outputs": [],
   "source": [
    "players_per_chain = np.zeros(len(long_chains), dtype = int)\n",
    "chains_per_player = np.zeros(nplayers, dtype = int)\n",
    "chain_lens = np.zeros(len(long_chains), dtype = int)\n",
    "nruns = 0\n",
    "\n",
    "for i, ch in enumerate(long_chains):\n",
    "    nruns += len(ch)\n",
    "    players = set()\n",
    "    for r in ch:\n",
    "        players.add(r[5])\n",
    "    players_per_chain[i] = len(players)\n",
    "    \n",
    "    for p in players:\n",
    "        chains_per_player[p] += 1\n",
    "        \n",
    "    chain_lens[i] = len(ch)"
   ]
  },
  {
   "cell_type": "code",
   "execution_count": 44,
   "id": "ab055309",
   "metadata": {},
   "outputs": [
    {
     "data": {
      "text/plain": [
       "Text(0, 0.5, '')"
      ]
     },
     "execution_count": 44,
     "metadata": {},
     "output_type": "execute_result"
    },
    {
     "data": {
      "image/png": "[encoded data removed]",
      "text/plain": [
       "<Figure size 216x216 with 1 Axes>"
      ]
     },
     "metadata": {
      "needs_background": "light"
     },
     "output_type": "display_data"
    }
   ],
   "source": [
    "plt.figure(figsize = (3, 3))\n",
    "plt.title('Players Per Chain')\n",
    "sns.countplot(x = players_per_chain, color = 'b')\n",
    "plt.ylabel('')"
   ]
  },
  {
   "cell_type": "code",
   "execution_count": 45,
   "id": "67fd9581",
   "metadata": {
    "scrolled": false
   },
   "outputs": [
    {
     "data": {
      "text/plain": [
       "Text(0, 0.5, '')"
      ]
     },
     "execution_count": 45,
     "metadata": {},
     "output_type": "execute_result"
    },
    {
     "data": {
      "image/png": "[encoded data removed]",
      "text/plain": [
       "<Figure size 504x216 with 1 Axes>"
      ]
     },
     "metadata": {
      "needs_background": "light"
     },
     "output_type": "display_data"
    }
   ],
   "source": [
    "plt.figure(figsize = (7, 3))\n",
    "plt.title('Chains Per Player')\n",
    "sns.countplot(x = chains_per_player, color = 'b')\n",
    "plt.ylabel('')"
   ]
  },
  {
   "cell_type": "code",
   "execution_count": 46,
   "id": "fd14a2e2",
   "metadata": {
    "scrolled": true
   },
   "outputs": [
    {
     "data": {
      "text/plain": [
       "Text(0, 0.5, '')"
      ]
     },
     "execution_count": 46,
     "metadata": {},
     "output_type": "execute_result"
    },
    {
     "data": {
      "image/png": "[encoded data removed]",
      "text/plain": [
       "<Figure size 720x216 with 1 Axes>"
      ]
     },
     "metadata": {
      "needs_background": "light"
     },
     "output_type": "display_data"
    }
   ],
   "source": [
    "plt.figure(figsize = (10, 3))\n",
    "plt.title('Chain Lengths')\n",
    "sns.countplot(x = chain_lens, color = 'b')\n",
    "plt.ylabel('')"
   ]
  },
  {
   "cell_type": "markdown",
   "id": "82f108d5",
   "metadata": {},
   "source": [
    "Total number of chains:"
   ]
  },
  {
   "cell_type": "code",
   "execution_count": 47,
   "id": "46ce0411",
   "metadata": {},
   "outputs": [
    {
     "data": {
      "text/plain": [
       "15490"
      ]
     },
     "execution_count": 47,
     "metadata": {},
     "output_type": "execute_result"
    }
   ],
   "source": [
    "len(long_chains)"
   ]
  },
  {
   "cell_type": "markdown",
   "id": "6612d2a9",
   "metadata": {},
   "source": [
    "Total remaining runs:"
   ]
  },
  {
   "cell_type": "code",
   "execution_count": 48,
   "id": "27fc62b9",
   "metadata": {},
   "outputs": [
    {
     "data": {
      "text/plain": [
       "101728"
      ]
     },
     "execution_count": 48,
     "metadata": {},
     "output_type": "execute_result"
    }
   ],
   "source": [
    "nruns"
   ]
  },
  {
   "cell_type": "markdown",
   "id": "a0a3ac22",
   "metadata": {},
   "source": [
    "Proportion of chains containing runs from more than one player:"
   ]
  },
  {
   "cell_type": "code",
   "execution_count": 49,
   "id": "d9a11f02",
   "metadata": {},
   "outputs": [
    {
     "data": {
      "text/plain": [
       "0.016333118140735958"
      ]
     },
     "execution_count": 49,
     "metadata": {},
     "output_type": "execute_result"
    }
   ],
   "source": [
    "(players_per_chain > 1).sum() / len(long_chains)"
   ]
  },
  {
   "cell_type": "markdown",
   "id": "255dc350",
   "metadata": {},
   "source": [
    "Spearman rank correlation between chain length and players per chain:"
   ]
  },
  {
   "cell_type": "code",
   "execution_count": 50,
   "id": "406cb8eb",
   "metadata": {},
   "outputs": [
    {
     "data": {
      "text/plain": [
       "SpearmanrResult(correlation=-0.001345201628599323, pvalue=0.8670484144226073)"
      ]
     },
     "execution_count": 50,
     "metadata": {},
     "output_type": "execute_result"
    }
   ],
   "source": [
    "sps.spearmanr(chain_lens, players_per_chain)"
   ]
  },
  {
   "cell_type": "markdown",
   "id": "0194c959",
   "metadata": {},
   "source": [
    "Proportion of players represented in chain data:"
   ]
  },
  {
   "cell_type": "code",
   "execution_count": 51,
   "id": "7976af78",
   "metadata": {},
   "outputs": [
    {
     "data": {
      "text/plain": [
       "0.14699"
      ]
     },
     "execution_count": 51,
     "metadata": {},
     "output_type": "execute_result"
    }
   ],
   "source": [
    "(chains_per_player > 0).sum() / nplayers"
   ]
  },
  {
   "cell_type": "markdown",
   "id": "b78db01a",
   "metadata": {},
   "source": [
    "Proportion of represented players that are represented in multiple chains:"
   ]
  },
  {
   "cell_type": "code",
   "execution_count": 52,
   "id": "2da4629a",
   "metadata": {},
   "outputs": [
    {
     "data": {
      "text/plain": [
       "0.06741955235050004"
      ]
     },
     "execution_count": 52,
     "metadata": {},
     "output_type": "execute_result"
    }
   ],
   "source": [
    "(chains_per_player > 1).sum() / (chains_per_player > 0).sum()"
   ]
  },
  {
   "cell_type": "code",
   "execution_count": null,
   "id": "06c0f279",
   "metadata": {},
   "outputs": [],
   "source": []
  }
 ],
 "metadata": {
  "kernelspec": {
   "display_name": "Python 3",
   "language": "python",
   "name": "python3"
  },
  "language_info": {
   "codemirror_mode": {
    "name": "ipython",
    "version": 3
   },
   "file_extension": ".py",
   "mimetype": "text/x-python",
   "name": "python",
   "nbconvert_exporter": "python",
   "pygments_lexer": "ipython3",
   "version": "3.8.8"
  }
 },
 "nbformat": 4,
 "nbformat_minor": 5
}
